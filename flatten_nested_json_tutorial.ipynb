{
  "nbformat": 4,
  "nbformat_minor": 0,
  "metadata": {
    "colab": {
      "name": "flatten-nested-json-tutorial.ipynb",
      "version": "0.3.2",
      "provenance": [],
      "include_colab_link": true
    },
    "kernelspec": {
      "name": "python3",
      "display_name": "Python 3"
    }
  },
  "cells": [
    {
      "cell_type": "markdown",
      "metadata": {
        "id": "view-in-github",
        "colab_type": "text"
      },
      "source": [
        "<a href=\"https://colab.research.google.com/github/healtrex/python-tutorials/blob/master/flatten_nested_json_tutorial.ipynb\" target=\"_parent\"><img src=\"https://colab.research.google.com/assets/colab-badge.svg\" alt=\"Open In Colab\"/></a>"
      ]
    },
    {
      "metadata": {
        "id": "pOcga9nQLLJY",
        "colab_type": "code",
        "colab": {}
      },
      "cell_type": "code",
      "source": [
        "import requests"
      ],
      "execution_count": 0,
      "outputs": []
    },
    {
      "metadata": {
        "id": "KcOHnAr8Mn6-",
        "colab_type": "code",
        "colab": {}
      },
      "cell_type": "code",
      "source": [
        "r = requests.get('https://api.usaspending.gov/api/v2/references/agency/456/')"
      ],
      "execution_count": 0,
      "outputs": []
    },
    {
      "metadata": {
        "id": "KWLT0AKLNdhn",
        "colab_type": "code",
        "colab": {
          "base_uri": "https://localhost:8080/",
          "height": 54
        },
        "outputId": "738f73d6-339c-4ee5-bcd3-538c911f1b71"
      },
      "cell_type": "code",
      "source": [
        "r.text"
      ],
      "execution_count": 8,
      "outputs": [
        {
          "output_type": "execute_result",
          "data": {
            "text/plain": [
              "'{\"results\":{\"current_total_budget_authority_amount\":\"8361447130497.72\",\"budget_authority_amount\":\"2050709011539.50\",\"icon_filename\":\"DOT.jpg\",\"mission\":\"Maintain a strong economy and create economic and job opportunities by promoting the conditions that enable economic growth and stability at home and abroad, strengthen national security by combating threats and protecting the integrity of the financial system, and manage the U.S. Government\\'s finances and resources effectively.\",\"obligated_amount\":\"875967120745.79\",\"website\":\"https://www.treasury.gov/\",\"active_fy\":\"2018\",\"outlay_amount\":\"868917491191.10\",\"active_fq\":\"3\",\"agency_name\":\"Department of the Treasury\"}}'"
            ]
          },
          "metadata": {
            "tags": []
          },
          "execution_count": 8
        }
      ]
    },
    {
      "metadata": {
        "id": "QAlbXDlyEU63",
        "colab_type": "code",
        "colab": {}
      },
      "cell_type": "code",
      "source": [
        "j = {\n",
        "    \"glossary\": {\n",
        "        \"title\": \"example glossary\",\n",
        "\t\t\"GlossDiv\": {\n",
        "            \"title\": \"S\",\n",
        "\t\t\t\"GlossList\": {\n",
        "                \"GlossEntry\": {\n",
        "                    \"ID\": \"SGML\",\n",
        "\t\t\t\t\t\"SortAs\": \"SGML\",\n",
        "\t\t\t\t\t\"GlossTerm\": \"Standard Generalized Markup Language\",\n",
        "\t\t\t\t\t\"Acronym\": \"SGML\",\n",
        "\t\t\t\t\t\"Abbrev\": \"ISO 8879:1986\",\n",
        "\t\t\t\t\t\"GlossDef\": {\n",
        "                        \"para\": \"A meta-markup language, used to create markup languages such as DocBook.\",\n",
        "\t\t\t\t\t\t\"GlossSeeAlso\": [\"GML\", \"XML\"]\n",
        "                    },\n",
        "\t\t\t\t\t\"GlossSee\": \"markup\"\n",
        "                }\n",
        "            }\n",
        "        }\n",
        "    }\n",
        "}\n",
        "\n",
        "\n"
      ],
      "execution_count": 0,
      "outputs": []
    },
    {
      "metadata": {
        "id": "YnViXFoQEbB9",
        "colab_type": "code",
        "colab": {}
      },
      "cell_type": "code",
      "source": [
        "import pandas as pd"
      ],
      "execution_count": 0,
      "outputs": []
    },
    {
      "metadata": {
        "id": "j0RFcangF2fG",
        "colab_type": "code",
        "colab": {}
      },
      "cell_type": "code",
      "source": [
        "json = { \n",
        "    \"selection\":[ \n",
        "         {\n",
        "          \"person_id\":105894,\n",
        "          \"position_id\":1,\n",
        "          \"label\":\"Work\",\n",
        "          \"description\":\"A description\",\n",
        "          \"startDate\":\"2017-07-16T19:20:30+01:00\",\n",
        "          \"stopDate\":\"2017-07-16T20:20:30+01:00\"\n",
        "          },\n",
        "          {\n",
        "         \"person_id\":945123,\n",
        "         \"position_id\":'x',\n",
        "         \"label\":\"Illness\",\n",
        "         \"description\":\"A description\",\n",
        "         \"startDate\":\"2017-07-17T19:20:30+01:00\",\n",
        "         \"stopDate\":\"2017-07-17T20:20:30+01:00\"\n",
        "         }\n",
        "       ]\n",
        "     }"
      ],
      "execution_count": 0,
      "outputs": []
    },
    {
      "metadata": {
        "id": "XR6SECDMEfgV",
        "colab_type": "code",
        "colab": {
          "base_uri": "https://localhost:8080/",
          "height": 111
        },
        "outputId": "74cb0240-aaed-4d85-d165-b8e6f13d12ad"
      },
      "cell_type": "code",
      "source": [
        "df = pd.DataFrame(json['selection'])\n",
        "df"
      ],
      "execution_count": 7,
      "outputs": [
        {
          "output_type": "execute_result",
          "data": {
            "text/html": [
              "<div>\n",
              "<style scoped>\n",
              "    .dataframe tbody tr th:only-of-type {\n",
              "        vertical-align: middle;\n",
              "    }\n",
              "\n",
              "    .dataframe tbody tr th {\n",
              "        vertical-align: top;\n",
              "    }\n",
              "\n",
              "    .dataframe thead th {\n",
              "        text-align: right;\n",
              "    }\n",
              "</style>\n",
              "<table border=\"1\" class=\"dataframe\">\n",
              "  <thead>\n",
              "    <tr style=\"text-align: right;\">\n",
              "      <th></th>\n",
              "      <th>description</th>\n",
              "      <th>label</th>\n",
              "      <th>person_id</th>\n",
              "      <th>position_id</th>\n",
              "      <th>startDate</th>\n",
              "      <th>stopDate</th>\n",
              "    </tr>\n",
              "  </thead>\n",
              "  <tbody>\n",
              "    <tr>\n",
              "      <th>0</th>\n",
              "      <td>A description</td>\n",
              "      <td>Work</td>\n",
              "      <td>105894</td>\n",
              "      <td>1</td>\n",
              "      <td>2017-07-16T19:20:30+01:00</td>\n",
              "      <td>2017-07-16T20:20:30+01:00</td>\n",
              "    </tr>\n",
              "    <tr>\n",
              "      <th>1</th>\n",
              "      <td>A description</td>\n",
              "      <td>Illness</td>\n",
              "      <td>945123</td>\n",
              "      <td>x</td>\n",
              "      <td>2017-07-17T19:20:30+01:00</td>\n",
              "      <td>2017-07-17T20:20:30+01:00</td>\n",
              "    </tr>\n",
              "  </tbody>\n",
              "</table>\n",
              "</div>"
            ],
            "text/plain": [
              "     description    label  person_id position_id                  startDate  \\\n",
              "0  A description     Work     105894           1  2017-07-16T19:20:30+01:00   \n",
              "1  A description  Illness     945123           x  2017-07-17T19:20:30+01:00   \n",
              "\n",
              "                    stopDate  \n",
              "0  2017-07-16T20:20:30+01:00  \n",
              "1  2017-07-17T20:20:30+01:00  "
            ]
          },
          "metadata": {
            "tags": []
          },
          "execution_count": 7
        }
      ]
    },
    {
      "metadata": {
        "id": "-Bp2PkeDGYRU",
        "colab_type": "code",
        "colab": {}
      },
      "cell_type": "code",
      "source": [
        "array = [\n",
        "\t{\n",
        "\t\t\"id\": \"0001\",\n",
        "\t\t\"type\": \"donut\",\n",
        "\t\t\"name\": \"Cake\",\n",
        "\t\t\"ppu\": 0.55,\n",
        "\t\t\"batters\":\n",
        "\t\t\t{\n",
        "\t\t\t\t\"batter\":\n",
        "\t\t\t\t\t[\n",
        "\t\t\t\t\t\t{ \"id\": \"1001\", \"type\": \"Regular\" },\n",
        "\t\t\t\t\t\t{ \"id\": \"1002\", \"type\": \"Chocolate\" },\n",
        "\t\t\t\t\t\t{ \"id\": \"1003\", \"type\": \"Blueberry\" },\n",
        "\t\t\t\t\t\t{ \"id\": \"1004\", \"type\": \"Devil's Food\" }\n",
        "\t\t\t\t\t]\n",
        "\t\t\t},\n",
        "\t\t\"topping\":\n",
        "\t\t\t[\n",
        "\t\t\t\t{ \"id\": \"5001\", \"type\": \"None\" },\n",
        "\t\t\t\t{ \"id\": \"5002\", \"type\": \"Glazed\" },\n",
        "\t\t\t\t{ \"id\": \"5005\", \"type\": \"Sugar\" },\n",
        "\t\t\t\t{ \"id\": \"5007\", \"type\": \"Powdered Sugar\" },\n",
        "\t\t\t\t{ \"id\": \"5006\", \"type\": \"Chocolate with Sprinkles\" },\n",
        "\t\t\t\t{ \"id\": \"5003\", \"type\": \"Chocolate\" },\n",
        "\t\t\t\t{ \"id\": \"5004\", \"type\": \"Maple\" }\n",
        "\t\t\t]\n",
        "\t},\n",
        "\t{\n",
        "\t\t\"id\": \"0002\",\n",
        "\t\t\"type\": \"donut\",\n",
        "\t\t\"name\": \"Raised\",\n",
        "\t\t\"ppu\": 0.55,\n",
        "\t\t\"batters\":\n",
        "\t\t\t{\n",
        "\t\t\t\t\"batter\":\n",
        "\t\t\t\t\t[\n",
        "\t\t\t\t\t\t{ \"id\": \"1001\", \"type\": \"Regular\" }\n",
        "\t\t\t\t\t]\n",
        "\t\t\t},\n",
        "\t\t\"topping\":\n",
        "\t\t\t[\n",
        "\t\t\t\t{ \"id\": \"5001\", \"type\": \"None\" },\n",
        "\t\t\t\t{ \"id\": \"5002\", \"type\": \"Glazed\" },\n",
        "\t\t\t\t{ \"id\": \"5005\", \"type\": \"Sugar\" },\n",
        "\t\t\t\t{ \"id\": \"5003\", \"type\": \"Chocolate\" },\n",
        "\t\t\t\t{ \"id\": \"5004\", \"type\": \"Maple\" }\n",
        "\t\t\t]\n",
        "\t},\n",
        "\t{\n",
        "\t\t\"id\": \"0003\",\n",
        "\t\t\"type\": \"donut\",\n",
        "\t\t\"name\": \"Old Fashioned\",\n",
        "\t\t\"ppu\": 0.55,\n",
        "\t\t\"batters\":\n",
        "\t\t\t{\n",
        "\t\t\t\t\"batter\":\n",
        "\t\t\t\t\t[\n",
        "\t\t\t\t\t\t{ \"id\": \"1001\", \"type\": \"Regular\" },\n",
        "\t\t\t\t\t\t{ \"id\": \"1002\", \"type\": \"Chocolate\" }\n",
        "\t\t\t\t\t]\n",
        "\t\t\t},\n",
        "\t\t\"topping\":\n",
        "\t\t\t[\n",
        "\t\t\t\t{ \"id\": \"5001\", \"type\": \"None\" },\n",
        "\t\t\t\t{ \"id\": \"5002\", \"type\": \"Glazed\" },\n",
        "\t\t\t\t{ \"id\": \"5003\", \"type\": \"Chocolate\" },\n",
        "\t\t\t\t{ \"id\": \"5004\", \"type\": \"Maple\" }\n",
        "\t\t\t]\n",
        "\t}\n",
        "]"
      ],
      "execution_count": 0,
      "outputs": []
    },
    {
      "metadata": {
        "id": "8e7ytMAUGcNO",
        "colab_type": "code",
        "colab": {}
      },
      "cell_type": "code",
      "source": [
        ""
      ],
      "execution_count": 0,
      "outputs": []
    }
  ]
}